{
 "cells": [
  {
   "cell_type": "code",
   "execution_count": 1,
   "metadata": {},
   "outputs": [],
   "source": [
    "import numpy as np\n",
    "\n",
    "perch_length = np.array([8.4, 13.7, 15.0, 16.2, 17.4, 18.0, 18.7, 19.0, 19.6, 20.0, 21.0,\n",
    "       21.0, 21.0, 21.3, 22.0, 22.0, 22.0, 22.0, 22.0, 22.5, 22.5, 22.7,\n",
    "       23.0, 23.5, 24.0, 24.0, 24.6, 25.0, 25.6, 26.5, 27.3, 27.5, 27.5,\n",
    "       27.5, 28.0, 28.7, 30.0, 32.8, 34.5, 35.0, 36.5, 36.0, 37.0, 37.0,\n",
    "       39.0, 39.0, 39.0, 40.0, 40.0, 40.0, 40.0, 42.0, 43.0, 43.0, 43.5,\n",
    "       44.0])\n",
    "perch_weight = np.array([5.9, 32.0, 40.0, 51.5, 70.0, 100.0, 78.0, 80.0, 85.0, 85.0, 110.0,\n",
    "       115.0, 125.0, 130.0, 120.0, 120.0, 130.0, 135.0, 110.0, 130.0,\n",
    "       150.0, 145.0, 150.0, 170.0, 225.0, 145.0, 188.0, 180.0, 197.0,\n",
    "       218.0, 300.0, 260.0, 265.0, 250.0, 250.0, 300.0, 320.0, 514.0,\n",
    "       556.0, 840.0, 685.0, 700.0, 700.0, 690.0, 900.0, 650.0, 820.0,\n",
    "       850.0, 900.0, 1015.0, 820.0, 1100.0, 1000.0, 1100.0, 1000.0,\n",
    "       1000.0])"
   ]
  },
  {
   "cell_type": "code",
   "execution_count": 2,
   "metadata": {},
   "outputs": [
    {
     "data": {
      "text/plain": [
       "<function matplotlib.pyplot.show(close=None, block=None)>"
      ]
     },
     "execution_count": 2,
     "metadata": {},
     "output_type": "execute_result"
    },
    {
     "data": {
      "image/png": "[encoded data removed]",
      "text/plain": [
       "<Figure size 432x288 with 1 Axes>"
      ]
     },
     "metadata": {
      "needs_background": "light"
     },
     "output_type": "display_data"
    }
   ],
   "source": [
    "import matplotlib.pyplot as plt\n",
    "\n",
    "plt.scatter(perch_length, perch_weight)\n",
    "plt.xlabel('length'); plt.ylabel('weight')\n",
    "plt.show"
   ]
  },
  {
   "cell_type": "code",
   "execution_count": 3,
   "metadata": {},
   "outputs": [],
   "source": [
    "from sklearn.model_selection import train_test_split\n",
    "\n",
    "train_input, test_input, train_target, test_target = train_test_split(perch_length, perch_weight, random_state=42)"
   ]
  },
  {
   "cell_type": "code",
   "execution_count": 4,
   "metadata": {},
   "outputs": [
    {
     "name": "stdout",
     "output_type": "stream",
     "text": [
      "(42, 1) (14, 1)\n"
     ]
    }
   ],
   "source": [
    "train_input = train_input.reshape(-1,1)\n",
    "test_input = test_input.reshape(-1,1)\n",
    "print(train_input.shape, test_input.shape)"
   ]
  },
  {
   "cell_type": "code",
   "execution_count": 10,
   "metadata": {
    "scrolled": true
   },
   "outputs": [
    {
     "data": {
      "text/plain": [
       "array([[1],\n",
       "       [2],\n",
       "       [3],\n",
       "       [4],\n",
       "       [5],\n",
       "       [5],\n",
       "       [6],\n",
       "       [7],\n",
       "       [8]])"
      ]
     },
     "execution_count": 10,
     "metadata": {},
     "output_type": "execute_result"
    }
   ],
   "source": [
    "ex=[1,2,3,4,5,5,6,7,8]\n",
    "np.reshape(ex,(-1,1))"
   ]
  },
  {
   "cell_type": "markdown",
   "metadata": {},
   "source": [
    "# K-최근접 이웃 회귀의 원리\n",
    "#### 등급을 모르는 새로운 데이터가 들어오면 거리 공식(Distance Formula)을 통해 가장 가까운 k개의 이웃을 찾는거다.\n",
    "#### 분류에는 이웃의 레이블 개수를 확인해서 다수결로 정했지만, 회귀에서는 이웃들의 평균을 계산한다는 점에서 차이가 있다.\n",
    "#### 만얀 가장 가까운 (특성이 유사한)3개의 이웃이 5.0, 6.8, 9.2의 등급을 가졌다면 이것의 평균 7이라고 예상한다."
   ]
  },
  {
   "cell_type": "code",
   "execution_count": 15,
   "metadata": {},
   "outputs": [
    {
     "data": {
      "text/plain": [
       "KNeighborsRegressor()"
      ]
     },
     "execution_count": 15,
     "metadata": {},
     "output_type": "execute_result"
    }
   ],
   "source": [
    "from sklearn.neighbors import KNeighborsRegressor\n",
    "\n",
    "knr = KNeighborsRegressor()\n",
    "\n",
    "knr.fit(train_input, train_target)"
   ]
  },
  {
   "cell_type": "code",
   "execution_count": 16,
   "metadata": {},
   "outputs": [
    {
     "data": {
      "text/plain": [
       "0.992809406101064"
      ]
     },
     "execution_count": 16,
     "metadata": {},
     "output_type": "execute_result"
    }
   ],
   "source": [
    "knr.score(test_input, test_target)"
   ]
  },
  {
   "cell_type": "markdown",
   "metadata": {},
   "source": [
    "# 가중 회귀 (Weighted Regression)\n",
    "#### 가까운 이웃들의 단순한  평균을 구하는게 아니라 각 이웃이 얼마나 가까이 있는지에 따라 가중 평균(weighted average)을 구하면, 거리가 가까울수록 데이터가 더 유사할 것이라고 보고 가중치를 부여하는 것이다."
   ]
  },
  {
   "cell_type": "code",
   "execution_count": 17,
   "metadata": {},
   "outputs": [
    {
     "data": {
      "text/plain": [
       "19.157142857142862"
      ]
     },
     "execution_count": 17,
     "metadata": {},
     "output_type": "execute_result"
    }
   ],
   "source": [
    "from sklearn.metrics import mean_absolute_error\n",
    "# mean_absolute_error 는 타깃과 예측의 절대값 오차를 평균하여 반환\n",
    "\n",
    "# 테스트 세트에 대한 예측을 만든다\n",
    "test_prediction = knr.predict(test_input)\n",
    "\n",
    "# 테스트 세트에 대한 평균 절대값 오차를 계산한다\n",
    "mae = mean_absolute_error(test_target, test_prediction)\n",
    "mae\n",
    "\n",
    "# 예측이 평균적으로 19g 정도 타깃값과 다르다는 것을 알 수 있다."
   ]
  },
  {
   "cell_type": "code",
   "execution_count": 18,
   "metadata": {},
   "outputs": [
    {
     "data": {
      "text/plain": [
       "0.9698823289099254"
      ]
     },
     "execution_count": 18,
     "metadata": {},
     "output_type": "execute_result"
    }
   ],
   "source": [
    "knr.score(train_input, train_target)"
   ]
  },
  {
   "cell_type": "code",
   "execution_count": 19,
   "metadata": {},
   "outputs": [
    {
     "data": {
      "text/plain": [
       "0.9804899950518966"
      ]
     },
     "execution_count": 19,
     "metadata": {},
     "output_type": "execute_result"
    }
   ],
   "source": [
    "# 이웃의 개수를 3으로 설정\n",
    "knr.n_neighbors = 3\n",
    "\n",
    "# 모델을 다시 훈련\n",
    "knr.fit(train_input, train_target)\n",
    "knr.score(train_input, train_target)"
   ]
  },
  {
   "cell_type": "code",
   "execution_count": 20,
   "metadata": {},
   "outputs": [
    {
     "data": {
      "text/plain": [
       "0.9746459963987609"
      ]
     },
     "execution_count": 20,
     "metadata": {},
     "output_type": "execute_result"
    }
   ],
   "source": [
    "# 앞서 이웃의 개수(기본)이 5개일때는 훈련 세트의 점수보다 테스트 세트의 점수가 높아 과소적합 문제가 발생했지만\n",
    "# 이웃의 개수를 3으로 줄여서 모델을 복잡하게 만듬으로써 테스트 세트의 점수가 훈련 세트보다 낮아져서 과소적합 문제를 해결 하였다.\n",
    "# 그리고 두 세트의 점수의 차가 크지 않으므로 과대적합 문제도 발생하지 않았다.\n",
    "knr.score(test_input, test_target)"
   ]
  },
  {
   "cell_type": "code",
   "execution_count": 21,
   "metadata": {},
   "outputs": [],
   "source": [
    "# 선형회귀\n",
    "import numpy as np\n",
    "\n",
    "perch_length = np.array([8.4, 13.7, 15.0, 16.2, 17.4, 18.0, 18.7, 19.0, 19.6, 20.0, 21.0,\n",
    "       21.0, 21.0, 21.3, 22.0, 22.0, 22.0, 22.0, 22.0, 22.5, 22.5, 22.7,\n",
    "       23.0, 23.5, 24.0, 24.0, 24.6, 25.0, 25.6, 26.5, 27.3, 27.5, 27.5,\n",
    "       27.5, 28.0, 28.7, 30.0, 32.8, 34.5, 35.0, 36.5, 36.0, 37.0, 37.0,\n",
    "       39.0, 39.0, 39.0, 40.0, 40.0, 40.0, 40.0, 42.0, 43.0, 43.0, 43.5,\n",
    "       44.0])\n",
    "perch_weight = np.array([5.9, 32.0, 40.0, 51.5, 70.0, 100.0, 78.0, 80.0, 85.0, 85.0, 110.0,\n",
    "       115.0, 125.0, 130.0, 120.0, 120.0, 130.0, 135.0, 110.0, 130.0,\n",
    "       150.0, 145.0, 150.0, 170.0, 225.0, 145.0, 188.0, 180.0, 197.0,\n",
    "       218.0, 300.0, 260.0, 265.0, 250.0, 250.0, 300.0, 320.0, 514.0,\n",
    "       556.0, 840.0, 685.0, 700.0, 700.0, 690.0, 900.0, 650.0, 820.0,\n",
    "       850.0, 900.0, 1015.0, 820.0, 1100.0, 1000.0, 1100.0, 1000.0,\n",
    "       1000.0])"
   ]
  },
  {
   "cell_type": "code",
   "execution_count": 22,
   "metadata": {},
   "outputs": [],
   "source": [
    "from sklearn.model_selection import train_test_split\n",
    "\n",
    "# 훈련 세트와 테스트 세트로 나누기\n",
    "train_input, test_input, train_target, test_target = train_test_split(perch_length, perch_weight, random_state=42)\n",
    "\n",
    "# 훈련 세트와 테스트 세트를 2차원 배열로 바꾼다.\n",
    "train_input = train_input.reshape(-1,1)\n",
    "test_input = test_input.reshape(-1,1)"
   ]
  },
  {
   "cell_type": "code",
   "execution_count": 23,
   "metadata": {},
   "outputs": [
    {
     "data": {
      "text/plain": [
       "KNeighborsRegressor(n_neighbors=3)"
      ]
     },
     "execution_count": 23,
     "metadata": {},
     "output_type": "execute_result"
    }
   ],
   "source": [
    "from sklearn.neighbors import KNeighborsRegressor\n",
    "\n",
    "knr = KNeighborsRegressor(n_neighbors=3)\n",
    "\n",
    "# k-최근접 이웃 회귀 모델을 훈련\n",
    "knr.fit(train_input, train_target)"
   ]
  },
  {
   "cell_type": "code",
   "execution_count": 24,
   "metadata": {},
   "outputs": [
    {
     "data": {
      "text/plain": [
       "array([1033.33333333])"
      ]
     },
     "execution_count": 24,
     "metadata": {},
     "output_type": "execute_result"
    }
   ],
   "source": [
    "# 위 모델로 길이가 50cm인 농어의 무게를 에측하니까 1033.333으로 나온다.\n",
    "knr.predict([[50]])"
   ]
  },
  {
   "cell_type": "code",
   "execution_count": 25,
   "metadata": {},
   "outputs": [
    {
     "data": {
      "image/png": "[encoded data removed]",
      "text/plain": [
       "<Figure size 432x288 with 1 Axes>"
      ]
     },
     "metadata": {
      "needs_background": "light"
     },
     "output_type": "display_data"
    }
   ],
   "source": [
    "\n",
    "import matplotlib.pyplot as plt\n",
    "\n",
    "# 50cm 농어의 이웃을 구한다\n",
    "distances, indexes = knr.kneighbors([[50]])\n",
    "\n",
    "# 훈련 세트의 산점도를 그린다\n",
    "plt.scatter(train_input, train_target)\n",
    "\n",
    "# 훈련 세트 중에서 이웃 샘플만 다시 그린다\n",
    "plt.scatter(train_input[indexes], train_target[indexes], marker='D')\n",
    "\n",
    "# 50cm 농어 데이터\n",
    "plt.scatter(50, 1033, marker='^')\n",
    "plt.xlabel('length'); plt.ylabel('weight')\n",
    "plt.show()"
   ]
  },
  {
   "cell_type": "code",
   "execution_count": 26,
   "metadata": {},
   "outputs": [
    {
     "data": {
      "text/plain": [
       "1033.3333333333333"
      ]
     },
     "execution_count": 26,
     "metadata": {},
     "output_type": "execute_result"
    }
   ],
   "source": [
    "np.mean(train_target[indexes])\n"
   ]
  },
  {
   "cell_type": "code",
   "execution_count": 27,
   "metadata": {},
   "outputs": [
    {
     "data": {
      "text/plain": [
       "array([1033.33333333])"
      ]
     },
     "execution_count": 27,
     "metadata": {},
     "output_type": "execute_result"
    }
   ],
   "source": [
    "knr.predict([[100]])\n",
    "# k-최근접 이웃 회귀는 가장 가까운 샘플을 찾아 타깃을 평균내기 때문에 새로운 샘플이 훈련 세트의 범위를 벗어나면 엉뚱한 값을 예측한다\n",
    "# 그래서 100이여도 1033.333값을 예측하는데 50이랑 똑같다."
   ]
  },
  {
   "cell_type": "code",
   "execution_count": 28,
   "metadata": {},
   "outputs": [
    {
     "data": {
      "image/png": "[encoded data removed]",
      "text/plain": [
       "<Figure size 432x288 with 1 Axes>"
      ]
     },
     "metadata": {
      "needs_background": "light"
     },
     "output_type": "display_data"
    }
   ],
   "source": [
    "\n",
    "# 100cm 농어의 이웃을 구한다\n",
    "distances, indexes = knr.kneighbors([[100]])\n",
    "\n",
    "# 훈련 세트의 산점도를 그린다\n",
    "plt.scatter(train_input, train_target)\n",
    "\n",
    "# 훈련 세트 중에서 이웃 샘플만 다시 그린다\n",
    "plt.scatter(train_input[indexes], train_target[indexes], marker='D')\n",
    "\n",
    "# 100cm 농어 데이터\n",
    "plt.scatter(100, 1033, marker='^')\n",
    "plt.xlabel('length'); plt.ylabel('weight')\n",
    "plt.show()"
   ]
  },
  {
   "cell_type": "markdown",
   "metadata": {},
   "source": [
    "# 선형 회귀\n",
    "회귀는 연속적인 타잇을 예측하는 알고리즘이다. 그 중에 선형 회귀(Linear Regression)이 가장 기본이 된다. 선형 회귀는 훈련 데이터에 가장 잘 들어맞는 선형 방정식을 찾는 문제이다. \n",
    "얼마나 잘 들어 맞는지를 측정 방법으로는 평균 제곱 오차(Mean Squear Error, MSE)를 사용한다. 이런 측정 함수를 비용 함수라한다.\n",
    "선형 회귀의 비용 함수인 평균 제곱 오차를 최소화하는 선형 방정식의 w를 찾아야한다 .해석적인 방법으로 해를 구할 수 있다. 비용 함수를 \n",
    "미분하여 도함수가 0이 되는 점을 찾는다 .\n"
   ]
  },
  {
   "cell_type": "code",
   "execution_count": 90,
   "metadata": {},
   "outputs": [
    {
     "data": {
      "text/plain": [
       "array([1241.83860323])"
      ]
     },
     "execution_count": 90,
     "metadata": {},
     "output_type": "execute_result"
    }
   ],
   "source": [
    "from sklearn.linear_model import LinearRegression\n",
    "\n",
    "lr = LinearRegression()\n",
    "\n",
    "# 선형 회귀 모델을 훈련\n",
    "lr.fit(train_input, train_target)\n",
    "\n",
    "# 50cm 농어에 대해 예측\n",
    "lr.predict([[50]])"
   ]
  },
  {
   "cell_type": "code",
   "execution_count": 91,
   "metadata": {},
   "outputs": [
    {
     "data": {
      "text/plain": [
       "(array([39.01714496]), -709.0186449535477)"
      ]
     },
     "execution_count": 91,
     "metadata": {},
     "output_type": "execute_result"
    }
   ],
   "source": [
    "lr.coef_, lr.intercept_"
   ]
  },
  {
   "cell_type": "code",
   "execution_count": 92,
   "metadata": {},
   "outputs": [
    {
     "data": {
      "image/png": "[encoded data removed]",
      "text/plain": [
       "<Figure size 432x288 with 1 Axes>"
      ]
     },
     "metadata": {
      "needs_background": "light"
     },
     "output_type": "display_data"
    }
   ],
   "source": [
    "\n",
    "# 훈련 세트의 산점도를 그린다\n",
    "plt.scatter(train_input, train_target)\n",
    "\n",
    "# 15에서 50까지 1차 방정식 그래프를 그린다\n",
    "plt.plot([15,50], [15*lr.coef_+lr.intercept_, 50*lr.coef_+lr.intercept_])\n",
    "\n",
    "# 50cm 농어 데이터\n",
    "plt.scatter(50, 1241.8, marker='^')\n",
    "plt.xlabel('length'); plt.ylabel('weight')\n",
    "plt.show()"
   ]
  },
  {
   "cell_type": "code",
   "execution_count": 93,
   "metadata": {},
   "outputs": [
    {
     "name": "stdout",
     "output_type": "stream",
     "text": [
      "0.939846333997604\n",
      "\n",
      "0.8247503123313558\n"
     ]
    }
   ],
   "source": [
    "print(lr.score(train_input, train_target)) # 훈련 세트에 대한 R^2(결정계수) 점수\n",
    "print()\n",
    "print(lr.score(test_input, test_target)) # 테스트 세트에 대한 R^2(결정계수) 점수"
   ]
  },
  {
   "cell_type": "code",
   "execution_count": 94,
   "metadata": {},
   "outputs": [],
   "source": [
    "# 최적의 직선이 아닌 최적의 곡선을 찾기 위해 길이를 제곱한 항을 각 세트에 붙여본다.\n",
    "train_poly = np.column_stack((train_input**2, train_input))\n",
    "test_poly = np.column_stack((test_input**2, test_input))"
   ]
  },
  {
   "cell_type": "code",
   "execution_count": 97,
   "metadata": {},
   "outputs": [
    {
     "name": "stdout",
     "output_type": "stream",
     "text": [
      "(42, 2) (14, 2)\n",
      "[[ 384.16   19.6 ]\n",
      " [ 484.     22.  ]\n",
      " [ 349.69   18.7 ]\n",
      " [ 302.76   17.4 ]\n",
      " [1296.     36.  ]\n",
      " [ 625.     25.  ]\n",
      " [1600.     40.  ]\n",
      " [1521.     39.  ]\n",
      " [1849.     43.  ]\n",
      " [ 484.     22.  ]\n",
      " [ 400.     20.  ]\n",
      " [ 484.     22.  ]\n",
      " [ 576.     24.  ]\n",
      " [ 756.25   27.5 ]\n",
      " [1849.     43.  ]\n",
      " [1600.     40.  ]\n",
      " [ 576.     24.  ]\n",
      " [ 441.     21.  ]\n",
      " [ 756.25   27.5 ]\n",
      " [1600.     40.  ]\n",
      " [1075.84   32.8 ]\n",
      " [ 702.25   26.5 ]\n",
      " [1332.25   36.5 ]\n",
      " [ 187.69   13.7 ]\n",
      " [ 515.29   22.7 ]\n",
      " [ 225.     15.  ]\n",
      " [1369.     37.  ]\n",
      " [1225.     35.  ]\n",
      " [ 823.69   28.7 ]\n",
      " [ 552.25   23.5 ]\n",
      " [1521.     39.  ]\n",
      " [ 441.     21.  ]\n",
      " [ 529.     23.  ]\n",
      " [ 484.     22.  ]\n",
      " [1936.     44.  ]\n",
      " [ 506.25   22.5 ]\n",
      " [ 361.     19.  ]\n",
      " [1369.     37.  ]\n",
      " [ 484.     22.  ]\n",
      " [ 655.36   25.6 ]\n",
      " [1764.     42.  ]\n",
      " [1190.25   34.5 ]] [[  70.56    8.4 ]\n",
      " [ 324.     18.  ]\n",
      " [ 756.25   27.5 ]\n",
      " [ 453.69   21.3 ]\n",
      " [ 506.25   22.5 ]\n",
      " [1600.     40.  ]\n",
      " [ 900.     30.  ]\n",
      " [ 605.16   24.6 ]\n",
      " [1521.     39.  ]\n",
      " [ 441.     21.  ]\n",
      " [1892.25   43.5 ]\n",
      " [ 262.44   16.2 ]\n",
      " [ 784.     28.  ]\n",
      " [ 745.29   27.3 ]]\n"
     ]
    }
   ],
   "source": [
    "print(train_poly.shape, test_poly.shape) # 원래 특성인 길이를 제곱하여 원쪽 열에 추가했기때문에 두 세트  열이 2개로 늘어남.\n",
    "print(train_poly, test_poly)"
   ]
  },
  {
   "cell_type": "code",
   "execution_count": 98,
   "metadata": {},
   "outputs": [
    {
     "data": {
      "text/plain": [
       "array([1573.98423528])"
      ]
     },
     "execution_count": 98,
     "metadata": {},
     "output_type": "execute_result"
    }
   ],
   "source": [
    "lr = LinearRegression()\n",
    "lr.fit(train_poly, train_target)\n",
    "lr.predict([[50**2, 50]]) # 농어 길이의 제곱값과 원래 길이를 함께 넣어 주어야 한다."
   ]
  },
  {
   "cell_type": "code",
   "execution_count": 99,
   "metadata": {},
   "outputs": [
    {
     "data": {
      "text/plain": [
       "(array([  1.01433211, -21.55792498]), 116.05021078278259)"
      ]
     },
     "execution_count": 99,
     "metadata": {},
     "output_type": "execute_result"
    }
   ],
   "source": [
    "lr.coef_, lr.intercept_"
   ]
  },
  {
   "cell_type": "code",
   "execution_count": 29,
   "metadata": {},
   "outputs": [
    {
     "data": {
      "image/png": "[encoded data removed]",
      "text/plain": [
       "<Figure size 432x288 with 1 Axes>"
      ]
     },
     "metadata": {
      "needs_background": "light"
     },
     "output_type": "display_data"
    }
   ],
   "source": [
    "#구간 별 직선을 그리기 위해 15에서 49까지 정수 배열을 만든다.\n",
    "point = np.arange(15,50)\n",
    "\n",
    "# 훈련 세트의 산점도를 그린다\n",
    "plt.scatter(train_input, train_target)\n",
    "\n",
    "# 15에서 50까지 2차 방정식 그래프를 그린다\n",
    "plt.plot(point, 1.01 * point**2 - 21.6 * point + 116.05)\n",
    "\n",
    "# 50cm 농어 데이터\n",
    "plt.scatter(50, 1574, marker='^')\n",
    "plt.xlabel('length'); plt.ylabel('weight')\n",
    "plt.show()"
   ]
  },
  {
   "cell_type": "code",
   "execution_count": 100,
   "metadata": {},
   "outputs": [
    {
     "name": "stdout",
     "output_type": "stream",
     "text": [
      "0.9706807451768623\n",
      "\n",
      "0.9775935108325121\n"
     ]
    }
   ],
   "source": [
    "print(lr.score(train_poly, train_target))\n",
    "print()\n",
    "print(lr.score(test_poly, test_target))\n",
    "#선형 회귀 때ㅜ 보다 각 세트에 대한 점수가 높아졌지만 테스트 점수가 조금 더 높으므로 과소적합이 남아있다."
   ]
  },
  {
   "cell_type": "markdown",
   "metadata": {},
   "source": [
    "# -------------------------------------------------예시---------------------------------------------------"
   ]
  },
  {
   "cell_type": "code",
   "execution_count": 32,
   "metadata": {},
   "outputs": [],
   "source": [
    "import sklearn\n",
    "import numpy as np\n",
    "import matplotlib.pyplot as plt"
   ]
  },
  {
   "cell_type": "code",
   "execution_count": 35,
   "metadata": {},
   "outputs": [],
   "source": [
    "from sklearn.linear_model import LinearRegression\n",
    "from sklearn.model_selection import train_test_split\n",
    "from sklearn.datasets import fetch_california_housing"
   ]
  },
  {
   "cell_type": "code",
   "execution_count": 37,
   "metadata": {},
   "outputs": [],
   "source": [
    "housing=fetch_california_housing()"
   ]
  },
  {
   "cell_type": "code",
   "execution_count": 38,
   "metadata": {},
   "outputs": [
    {
     "name": "stdout",
     "output_type": "stream",
     "text": [
      "(20640, 8) (20640,)\n"
     ]
    }
   ],
   "source": [
    "print(housing.data.shape, housing.target.shape)"
   ]
  },
  {
   "cell_type": "code",
   "execution_count": null,
   "metadata": {},
   "outputs": [],
   "source": [
    "75% 는 훈련 세트  25%는 테스트 세트로 분리\n",
    "그래프로ㅗ 나타내기 편하도록 하나의 편성만 사용하겠다. 사이킷런의 모델"
   ]
  },
  {
   "cell_type": "code",
   "execution_count": 45,
   "metadata": {
    "scrolled": true
   },
   "outputs": [
    {
     "name": "stdout",
     "output_type": "stream",
     "text": [
      "(15480, 1) (5160, 1) (15480,) (5160,)\n"
     ]
    }
   ],
   "source": [
    "X_train,X_test,y_train,y_test=train_test_split(housing.data[:,0:1],housing.target,random_state=42)\n",
    "print(X_train.shape, X_test.shape,y_train.shape,y_test.shape)"
   ]
  },
  {
   "cell_type": "markdown",
   "metadata": {},
   "source": [
    "# 정규 방정식을 이용하여 평균 제곱 오차가 최소가 되는 모델 파라미터 w를 구하기\n",
    "먼저 훈련 데이터 X_train에 절편에 해당하는 x0=1ㅇ을 추가하고 np.ones()와 np.hstack()함수를 사용하면 쉽게 X_train의 첫 번째 열에 1로 채워진 벡터를 추가할 수있다"
   ]
  },
  {
   "cell_type": "code",
   "execution_count": 51,
   "metadata": {},
   "outputs": [],
   "source": [
    "x0= np.ones((X_train.shape[0],1))\n",
    "X=np.hstack((x0,X_train))"
   ]
  },
  {
   "cell_type": "code",
   "execution_count": 57,
   "metadata": {},
   "outputs": [
    {
     "name": "stdout",
     "output_type": "stream",
     "text": [
      "(15480, 2)\n"
     ]
    }
   ],
   "source": [
    "print(X.shape)"
   ]
  },
  {
   "cell_type": "markdown",
   "metadata": {},
   "source": [
    "정규 방정식에 나오는 전치 행렬은 넘파이 배열에서 바로 변환 가능. 역행렬은 넘파이에 있는 선형 대수 모듈 아래 inv() 함수를 사용하여 구함"
   ]
  },
  {
   "cell_type": "code",
   "execution_count": 62,
   "metadata": {},
   "outputs": [
    {
     "name": "stdout",
     "output_type": "stream",
     "text": [
      "[0.44967564 0.41788087]\n"
     ]
    }
   ],
   "source": [
    "w=np.linalg.inv(X.T.dot(X)).dot(X.T).dot(y_train)\n",
    "print(w)"
   ]
  },
  {
   "cell_type": "markdown",
   "metadata": {},
   "source": [
    "X_train, y_train으로 산점도를 그리고 학습된 방정식을 나타내기 위해 (0,w[0]에서 (10,10*w[1]+w[0]))을 지나는 직선 그래프 그리기"
   ]
  },
  {
   "cell_type": "code",
   "execution_count": 63,
   "metadata": {
    "scrolled": true
   },
   "outputs": [
    {
     "data": {
      "image/png": "[encoded data removed]",
      "text/plain": [
       "<Figure size 432x288 with 1 Axes>"
      ]
     },
     "metadata": {
      "needs_background": "light"
     },
     "output_type": "display_data"
    }
   ],
   "source": [
    "plt.scatter(X_train,y_train)\n",
    "plt.plot([0,10],[w[0],10*w[0]],'r')\n",
    "plt.xlabel('x')\n",
    "plt.ylabel('y')\n",
    "plt.show()"
   ]
  },
  {
   "cell_type": "markdown",
   "metadata": {},
   "source": [
    "### 사이킷런의 LinaerRegression 클래스는 사이파이의 lstsq()함수를 사용하여 선형 회귀 문제를 푼다.\n",
    "이 함수는 특잇값 분해(SVD)방식을 사용하여 유사 역행열을 계산, 사이킷런의 모델 클래스를 사용할때 x0값을 고려하지 않아도 된다. \n"
   ]
  },
  {
   "cell_type": "code",
   "execution_count": 67,
   "metadata": {},
   "outputs": [],
   "source": [
    "lr=LinearRegression()\n"
   ]
  },
  {
   "cell_type": "code",
   "execution_count": 69,
   "metadata": {},
   "outputs": [
    {
     "data": {
      "text/plain": [
       "0.47083837938023376"
      ]
     },
     "execution_count": 69,
     "metadata": {},
     "output_type": "execute_result"
    }
   ],
   "source": [
    "lr.fit(X_train,y_train)\n",
    "lr.score(X_test,y_test)"
   ]
  },
  {
   "cell_type": "markdown",
   "metadata": {},
   "source": [
    "사이킷런의 회귀 모델 클래스들은 RegressorMixin 클래스를 상속한다. 이 클래스는 결정계수 R^2점수를 계산하는 score()메서드를 제공한다. 결정계수(Coefficient of determination)는 -1~1사이의 값을 가진다. \n",
    "#### R^2= 1-sum(y-y^)^2/sum(y-ybar)^2---->ybar는 타깃 데이터의 평균"
   ]
  },
  {
   "cell_type": "code",
   "execution_count": 73,
   "metadata": {},
   "outputs": [
    {
     "name": "stdout",
     "output_type": "stream",
     "text": [
      "0.47083837938023376\n"
     ]
    }
   ],
   "source": [
    "y_pred= lr.predict(X_test)\n",
    "r2=1-((y_test-y_pred)**2).sum()/((y_test-y_test.mean())**2).sum()\n",
    "print(r2)"
   ]
  },
  {
   "cell_type": "markdown",
   "metadata": {},
   "source": [
    "#### LInearRegression 클래스가 구한 모델 파라미터는 가중치와 절편이 coef_와 intercept_인스턴스 변수에 따로 저장되어 있다. 하나의 특성만 사용했기 때문에 구해진 가중치 배열의 원소가 하나이다."
   ]
  },
  {
   "cell_type": "code",
   "execution_count": 77,
   "metadata": {},
   "outputs": [
    {
     "name": "stdout",
     "output_type": "stream",
     "text": [
      "[0.41788087] 0.4496756419968613\n"
     ]
    }
   ],
   "source": [
    "print(lr.coef_,lr.intercept_)# coef_ :가중치 ,intercept_ : 절편"
   ]
  },
  {
   "cell_type": "code",
   "execution_count": 81,
   "metadata": {},
   "outputs": [
    {
     "data": {
      "image/png": "[encoded data removed]",
      "text/plain": [
       "<Figure size 432x288 with 1 Axes>"
      ]
     },
     "metadata": {
      "needs_background": "light"
     },
     "output_type": "display_data"
    }
   ],
   "source": [
    "plt.scatter(X_train,y_train)\n",
    "plt.plot([0,10],[lr.intercept_,10*lr.coef_+lr.intercept_],'r')\n",
    "plt.xlabel('x')\n",
    "plt.ylabel('y')\n",
    "plt.show()"
   ]
  },
  {
   "cell_type": "markdown",
   "metadata": {},
   "source": [
    "입력 데이터 의 최소,최대값 사이가 0을 포함하지 않을 수 있기 때문에 LinearRegession 클래스는 의미있는 절편을 구하기 위해서 훈련 데이터의 평균을 원점에 맞춘다. fit()메서드에 입력된 훈련 데이터는 참조에 의한 전달이 된다. 원본 데이터를 변경하지 않으려면 훈련 데이터를 복사 사용해야한다. \n",
    "LinearRegression 클래스의 copy_X 매개변수에 이를 조정할 수 있으며 기본값은 True로 훈련데이터를 복사하여 사용해야 한다."
   ]
  },
  {
   "cell_type": "markdown",
   "metadata": {},
   "source": [
    "fit_intercept 매개변수를 기본값 True에서 False로 바꾸면 절편을 계산하지 않는다. 데이터셋이 원점에 맞추어져 있을 때 사용 할 수 있다."
   ]
  },
  {
   "cell_type": "code",
   "execution_count": 84,
   "metadata": {},
   "outputs": [
    {
     "name": "stdout",
     "output_type": "stream",
     "text": [
      "[0.51131441] 0.0\n"
     ]
    }
   ],
   "source": [
    "lr_no_intercept=LinearRegression(fit_intercept=False)\n",
    "lr_no_intercept.fit(X_train,y_train)\n",
    "print(lr_no_intercept.coef_,lr_no_intercept.intercept_)"
   ]
  },
  {
   "cell_type": "code",
   "execution_count": 87,
   "metadata": {},
   "outputs": [
    {
     "name": "stderr",
     "output_type": "stream",
     "text": [
      "C:\\Users\\seonwoo\\anaconda3\\lib\\site-packages\\numpy\\core\\_asarray.py:136: VisibleDeprecationWarning: Creating an ndarray from ragged nested sequences (which is a list-or-tuple of lists-or-tuples-or ndarrays with different lengths or shapes) is deprecated. If you meant to do this, you must specify 'dtype=object' when creating the ndarray\n",
      "  return array(a, dtype, copy=False, order=order, subok=True)\n"
     ]
    },
    {
     "data": {
      "image/png": "[encoded data removed]",
      "text/plain": [
       "<Figure size 432x288 with 1 Axes>"
      ]
     },
     "metadata": {
      "needs_background": "light"
     },
     "output_type": "display_data"
    }
   ],
   "source": [
    "plt.scatter(X_train,y_train)\n",
    "plt.plot([0,10],[lr_no_intercept.intercept_,10*lr_no_intercept.coef_+lr_no_intercept.intercept_],'r')\n",
    "plt.xlabel('x')\n",
    "plt.ylabel('y')\n",
    "plt.show()"
   ]
  },
  {
   "cell_type": "markdown",
   "metadata": {},
   "source": [
    "#### normalize 매개변수를 기본값 False에서 True로 바꾸면 각 특성에서 평균을 빼고 L2 노름으로 나누어 정규화한다. \n",
    "### 각 특성은 L2 노름이 1이 된다. "
   ]
  },
  {
   "cell_type": "code",
   "execution_count": null,
   "metadata": {},
   "outputs": [],
   "source": []
  }
 ],
 "metadata": {
  "kernelspec": {
   "display_name": "Python 3",
   "language": "python",
   "name": "python3"
  },
  "language_info": {
   "codemirror_mode": {
    "name": "ipython",
    "version": 3
   },
   "file_extension": ".py",
   "mimetype": "text/x-python",
   "name": "python",
   "nbconvert_exporter": "python",
   "pygments_lexer": "ipython3",
   "version": "3.8.5"
  }
 },
 "nbformat": 4,
 "nbformat_minor": 4
}
